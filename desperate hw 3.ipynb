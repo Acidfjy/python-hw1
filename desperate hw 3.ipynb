{
 "cells": [
  {
   "cell_type": "code",
   "execution_count": 2,
   "metadata": {},
   "outputs": [
    {
     "ename": "IndentationError",
     "evalue": "expected an indented block (<ipython-input-2-0d584d9853a5>, line 17)",
     "output_type": "error",
     "traceback": [
      "\u001b[0;36m  File \u001b[0;32m\"<ipython-input-2-0d584d9853a5>\"\u001b[0;36m, line \u001b[0;32m17\u001b[0m\n\u001b[0;31m    Date.append(row[0])\u001b[0m\n\u001b[0m       ^\u001b[0m\n\u001b[0;31mIndentationError\u001b[0m\u001b[0;31m:\u001b[0m expected an indented block\n"
     ]
    }
   ],
   "source": [
    "import matplotlib.pyplot as plt \n",
    "\n",
    "def read_data(path):\n",
    "\tDate = []\n",
    "\tOpen = []\n",
    "\tHigh = []\n",
    "\tLow = []\n",
    "\tClose = []\n",
    "\tAdjClose = []\n",
    "\tVol = []\n",
    "with open('AAPL.csv','r') as csvfile:\n",
    "    plots = csv.reader(csvfile, delimiter=',')\n",
    "    step = 0\n",
    "    for row in plots:\n",
    "        step += 1\n",
    "        if len(row) == 7 and step > 1 :\n",
    "        Date.append(row[0])\n",
    "        Open.append(row[1])\n",
    "        High.append(row[2])\n",
    "        Low.append(row[3])\n",
    "        Close.append(row[4])\n",
    "        AdjClose.append(float (row[5]))\n",
    "        Vol.append(float (row [6]))\n",
    "        \n",
    "\traise NotImplementedError\n",
    "\n",
    "\treturn Date, Open, High, Low, Close, AdjClose, Vol\n",
    "\n",
    "\n",
    "def plot_data(Date, y):\n",
    "\timport matplotlib.dates as mdates\n",
    "\tDate = mdates.datestr2num(Date)\n",
    "\traise NotImplementedError\n",
    "\n",
    "\tplot_data(Date, AdjClose)"
   ]
  },
  {
   "cell_type": "code",
   "execution_count": null,
   "metadata": {},
   "outputs": [],
   "source": []
  }
 ],
 "metadata": {
  "kernelspec": {
   "display_name": "Python 3",
   "language": "python",
   "name": "python3"
  },
  "language_info": {
   "codemirror_mode": {
    "name": "ipython",
    "version": 3
   },
   "file_extension": ".py",
   "mimetype": "text/x-python",
   "name": "python",
   "nbconvert_exporter": "python",
   "pygments_lexer": "ipython3",
   "version": "3.5.2"
  }
 },
 "nbformat": 4,
 "nbformat_minor": 2
}
